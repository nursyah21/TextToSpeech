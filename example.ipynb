{
 "cells": [
  {
   "cell_type": "markdown",
   "metadata": {},
   "source": [
    "source: https://huggingface.co/facebook/wav2vec2-base-960h\n",
    "paper: https://arxiv.org/abs/2006.11477"
   ]
  },
  {
   "cell_type": "code",
   "execution_count": 1,
   "metadata": {},
   "outputs": [
    {
     "name": "stderr",
     "output_type": "stream",
     "text": [
      "Some weights of Wav2Vec2ForCTC were not initialized from the model checkpoint at facebook/wav2vec2-base-960h and are newly initialized: ['wav2vec2.masked_spec_embed']\n",
      "You should probably TRAIN this model on a down-stream task to be able to use it for predictions and inference.\n",
      "Found cached dataset librispeech_asr_dummy (/home/nursyah/.cache/huggingface/datasets/patrickvonplaten___librispeech_asr_dummy/clean/2.1.0/f2c70a4d03ab4410954901bde48c54b85ca1b7f9bf7d616e7e2a72b5ee6ddbfc)\n"
     ]
    }
   ],
   "source": [
    "\n",
    "from transformers import Wav2Vec2Processor, Wav2Vec2ForCTC\n",
    "from datasets import load_dataset\n",
    "import torch\n",
    "\n",
    "# load model and tokenizer\n",
    "processor = Wav2Vec2Processor.from_pretrained(\"facebook/wav2vec2-base-960h\")\n",
    "model = Wav2Vec2ForCTC.from_pretrained(\"facebook/wav2vec2-base-960h\")\n",
    "    \n",
    "# load dummy dataset and read soundfiles\n",
    "ds = load_dataset(\"patrickvonplaten/librispeech_asr_dummy\", \"clean\", split=\"validation\")"
   ]
  },
  {
   "cell_type": "code",
   "execution_count": 2,
   "metadata": {},
   "outputs": [],
   "source": [
    "# tokenize\n",
    "input_values = processor(ds[0][\"audio\"][\"array\"], return_tensors=\"pt\", padding=\"longest\", sampling_rate=16000).input_values  # Batch size 1\n",
    "\n",
    "# retrieve logits\n",
    "logits = model(input_values).logits\n",
    "\n",
    "# take argmax and decode\n",
    "predicted_ids = torch.argmax(logits, dim=-1)\n",
    "transcription = processor.batch_decode(predicted_ids)\n"
   ]
  },
  {
   "cell_type": "code",
   "execution_count": 3,
   "metadata": {},
   "outputs": [
    {
     "data": {
      "text/plain": [
       "array([-0.00048828, -0.00018311, -0.00137329, ...,  0.00079346,\n",
       "        0.00091553,  0.00085449])"
      ]
     },
     "execution_count": 3,
     "metadata": {},
     "output_type": "execute_result"
    }
   ],
   "source": [
    "# what inside \n",
    "ds[0][\"audio\"]['array']"
   ]
  },
  {
   "cell_type": "code",
   "execution_count": 4,
   "metadata": {},
   "outputs": [],
   "source": [
    "from pydub import AudioSegment\n",
    "from pydub.playback import play"
   ]
  },
  {
   "cell_type": "code",
   "execution_count": 19,
   "metadata": {},
   "outputs": [
    {
     "name": "stdout",
     "output_type": "stream",
     "text": [
      "/home/nursyah/.cache/huggingface/datasets/downloads/extracted/52084c21ae4fb2e8c3d62e87346b48521aaf0420040788a6baf22ce7825b982e/dev_clean/1272/141231/1272-141231-0000.flac\n",
      "playing sound using  pydub\n"
     ]
    },
    {
     "name": "stderr",
     "output_type": "stream",
     "text": [
      "ALSA lib pcm_oss.c:397:(_snd_pcm_oss_open) Cannot open device /dev/dsp\n",
      "ALSA lib pcm_oss.c:397:(_snd_pcm_oss_open) Cannot open device /dev/dsp\n",
      "ALSA lib confmisc.c:160:(snd_config_get_card) Invalid field card\n",
      "ALSA lib pcm_usb_stream.c:482:(_snd_pcm_usb_stream_open) Invalid card 'card'\n",
      "ALSA lib confmisc.c:160:(snd_config_get_card) Invalid field card\n",
      "ALSA lib pcm_usb_stream.c:482:(_snd_pcm_usb_stream_open) Invalid card 'card'\n"
     ]
    }
   ],
   "source": [
    "test_audio = ds[0]['audio']['path']\n",
    "print(test_audio)\n",
    "song = AudioSegment.from_file(test_audio, format='flac')\n",
    "print(f\"playing sound using  pydub\")\n",
    "play(song)"
   ]
  },
  {
   "cell_type": "code",
   "execution_count": 6,
   "metadata": {},
   "outputs": [
    {
     "name": "stdout",
     "output_type": "stream",
     "text": [
      "['A MAN SAID TO THE UNIVERSE SIR I EXIST']\n"
     ]
    }
   ],
   "source": [
    "print(transcription)"
   ]
  },
  {
   "cell_type": "code",
   "execution_count": 29,
   "metadata": {},
   "outputs": [],
   "source": [
    "# using custom audio\n",
    "\n",
    "# convert audio to array\n",
    "audio = AudioSegment.from_file('./audio_yt.m4a')\n",
    "x = torch.FloatTensor(audio.get_array_of_samples())\n"
   ]
  },
  {
   "cell_type": "code",
   "execution_count": 26,
   "metadata": {},
   "outputs": [],
   "source": [
    "# processing\n",
    "\n",
    "inputs = processor(x, return_tensors=\"pt\", padding=\"longest\", sampling_rate=16000).input_values \n",
    "logits = model(inputs).logits\n",
    "\n",
    "# take argmax and decode\n",
    "predicted_ids = torch.argmax(logits, dim=-1)\n",
    "transcription = processor.batch_decode(predicted_ids)"
   ]
  },
  {
   "cell_type": "code",
   "execution_count": 27,
   "metadata": {},
   "outputs": [
    {
     "name": "stdout",
     "output_type": "stream",
     "text": [
      "['']\n"
     ]
    }
   ],
   "source": [
    "print(transcription)"
   ]
  },
  {
   "cell_type": "code",
   "execution_count": 28,
   "metadata": {},
   "outputs": [
    {
     "name": "stdout",
     "output_type": "stream",
     "text": [
      "./audio_yt.m4a\n",
      "playing sound using  pydub\n"
     ]
    },
    {
     "name": "stderr",
     "output_type": "stream",
     "text": [
      "ALSA lib pcm_oss.c:397:(_snd_pcm_oss_open) Cannot open device /dev/dsp\n",
      "ALSA lib pcm_oss.c:397:(_snd_pcm_oss_open) Cannot open device /dev/dsp\n",
      "ALSA lib confmisc.c:160:(snd_config_get_card) Invalid field card\n",
      "ALSA lib pcm_usb_stream.c:482:(_snd_pcm_usb_stream_open) Invalid card 'card'\n",
      "ALSA lib confmisc.c:160:(snd_config_get_card) Invalid field card\n",
      "ALSA lib pcm_usb_stream.c:482:(_snd_pcm_usb_stream_open) Invalid card 'card'\n"
     ]
    },
    {
     "ename": "KeyboardInterrupt",
     "evalue": "",
     "output_type": "error",
     "traceback": [
      "\u001b[0;31m---------------------------------------------------------------------------\u001b[0m",
      "\u001b[0;31mKeyboardInterrupt\u001b[0m                         Traceback (most recent call last)",
      "Cell \u001b[0;32mIn[28], line 5\u001b[0m\n\u001b[1;32m      3\u001b[0m song \u001b[38;5;241m=\u001b[39m AudioSegment\u001b[38;5;241m.\u001b[39mfrom_file(test_audio)\n\u001b[1;32m      4\u001b[0m \u001b[38;5;28mprint\u001b[39m(\u001b[38;5;124mf\u001b[39m\u001b[38;5;124m\"\u001b[39m\u001b[38;5;124mplaying sound using  pydub\u001b[39m\u001b[38;5;124m\"\u001b[39m)\n\u001b[0;32m----> 5\u001b[0m \u001b[43mplay\u001b[49m\u001b[43m(\u001b[49m\u001b[43msong\u001b[49m\u001b[43m)\u001b[49m\n",
      "File \u001b[0;32m~/TextToSpeech/lib/python3.10/site-packages/pydub/playback.py:64\u001b[0m, in \u001b[0;36mplay\u001b[0;34m(audio_segment)\u001b[0m\n\u001b[1;32m     <a href='file:///home/nursyah/TextToSpeech/lib/python3.10/site-packages/pydub/playback.py?line=60'>61</a>\u001b[0m     \u001b[39mreturn\u001b[39;00m\n\u001b[1;32m     <a href='file:///home/nursyah/TextToSpeech/lib/python3.10/site-packages/pydub/playback.py?line=62'>63</a>\u001b[0m \u001b[39mtry\u001b[39;00m:\n\u001b[0;32m---> <a href='file:///home/nursyah/TextToSpeech/lib/python3.10/site-packages/pydub/playback.py?line=63'>64</a>\u001b[0m     _play_with_pyaudio(audio_segment)\n\u001b[1;32m     <a href='file:///home/nursyah/TextToSpeech/lib/python3.10/site-packages/pydub/playback.py?line=64'>65</a>\u001b[0m     \u001b[39mreturn\u001b[39;00m\n\u001b[1;32m     <a href='file:///home/nursyah/TextToSpeech/lib/python3.10/site-packages/pydub/playback.py?line=65'>66</a>\u001b[0m \u001b[39mexcept\u001b[39;00m \u001b[39mImportError\u001b[39;00m:\n",
      "File \u001b[0;32m~/TextToSpeech/lib/python3.10/site-packages/pydub/playback.py:33\u001b[0m, in \u001b[0;36m_play_with_pyaudio\u001b[0;34m(seg)\u001b[0m\n\u001b[1;32m     <a href='file:///home/nursyah/TextToSpeech/lib/python3.10/site-packages/pydub/playback.py?line=29'>30</a>\u001b[0m \u001b[39mtry\u001b[39;00m:\n\u001b[1;32m     <a href='file:///home/nursyah/TextToSpeech/lib/python3.10/site-packages/pydub/playback.py?line=30'>31</a>\u001b[0m     \u001b[39m# break audio into half-second chunks (to allows keyboard interrupts)\u001b[39;00m\n\u001b[1;32m     <a href='file:///home/nursyah/TextToSpeech/lib/python3.10/site-packages/pydub/playback.py?line=31'>32</a>\u001b[0m     \u001b[39mfor\u001b[39;00m chunk \u001b[39min\u001b[39;00m make_chunks(seg, \u001b[39m500\u001b[39m):\n\u001b[0;32m---> <a href='file:///home/nursyah/TextToSpeech/lib/python3.10/site-packages/pydub/playback.py?line=32'>33</a>\u001b[0m         stream\u001b[39m.\u001b[39;49mwrite(chunk\u001b[39m.\u001b[39;49m_data)\n\u001b[1;32m     <a href='file:///home/nursyah/TextToSpeech/lib/python3.10/site-packages/pydub/playback.py?line=33'>34</a>\u001b[0m \u001b[39mfinally\u001b[39;00m:\n\u001b[1;32m     <a href='file:///home/nursyah/TextToSpeech/lib/python3.10/site-packages/pydub/playback.py?line=34'>35</a>\u001b[0m     stream\u001b[39m.\u001b[39mstop_stream()\n",
      "File \u001b[0;32m~/TextToSpeech/lib/python3.10/site-packages/pyaudio/__init__.py:550\u001b[0m, in \u001b[0;36mPyAudio.Stream.write\u001b[0;34m(self, frames, num_frames, exception_on_underflow)\u001b[0m\n\u001b[1;32m    <a href='file:///home/nursyah/TextToSpeech/lib/python3.10/site-packages/pyaudio/__init__.py?line=546'>547</a>\u001b[0m     width \u001b[39m=\u001b[39m get_sample_size(\u001b[39mself\u001b[39m\u001b[39m.\u001b[39m_format)\n\u001b[1;32m    <a href='file:///home/nursyah/TextToSpeech/lib/python3.10/site-packages/pyaudio/__init__.py?line=547'>548</a>\u001b[0m     num_frames \u001b[39m=\u001b[39m \u001b[39mint\u001b[39m(\u001b[39mlen\u001b[39m(frames) \u001b[39m/\u001b[39m (\u001b[39mself\u001b[39m\u001b[39m.\u001b[39m_channels \u001b[39m*\u001b[39m width))\n\u001b[0;32m--> <a href='file:///home/nursyah/TextToSpeech/lib/python3.10/site-packages/pyaudio/__init__.py?line=549'>550</a>\u001b[0m pa\u001b[39m.\u001b[39;49mwrite_stream(\u001b[39mself\u001b[39;49m\u001b[39m.\u001b[39;49m_stream, frames, num_frames,\n\u001b[1;32m    <a href='file:///home/nursyah/TextToSpeech/lib/python3.10/site-packages/pyaudio/__init__.py?line=550'>551</a>\u001b[0m                 exception_on_underflow)\n",
      "\u001b[0;31mKeyboardInterrupt\u001b[0m: "
     ]
    }
   ],
   "source": [
    "test_audio = './audio_yt.m4a'\n",
    "print(test_audio)\n",
    "song = AudioSegment.from_file(test_audio)\n",
    "print(f\"playing sound using  pydub\")\n",
    "play(song)"
   ]
  }
 ],
 "metadata": {
  "interpreter": {
   "hash": "57f56da1b9090ce9eccf4a4acd48bcd74edf7b57b483b6523c299becc1e1959d"
  },
  "kernelspec": {
   "display_name": "Python 3.10.6 ('TextToSpeech')",
   "language": "python",
   "name": "python3"
  },
  "language_info": {
   "codemirror_mode": {
    "name": "ipython",
    "version": 3
   },
   "file_extension": ".py",
   "mimetype": "text/x-python",
   "name": "python",
   "nbconvert_exporter": "python",
   "pygments_lexer": "ipython3",
   "version": "3.10.6"
  },
  "orig_nbformat": 4
 },
 "nbformat": 4,
 "nbformat_minor": 2
}
