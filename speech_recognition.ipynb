{
 "cells": [
  {
   "cell_type": "markdown",
   "source": [
    "references:\n",
    "https://github.com/facebookresearch/fairseq/tree/main/examples/wav2vec\n",
    "https://huggingface.co/facebook/wav2vec2-base-960h\n",
    "https://github.com/facebookresearch/fairseq/tree/main/examples/speech_to_text\n",
    "\n",
    "source-code: https://github.com/facebookresearch/fairseq/blob/main/examples/speech_to_text/prep_mtedx_data.py\n",
    "\n",
    "datasets: https://commonvoice.mozilla.org/en/datasets"
   ],
   "metadata": {
    "collapsed": false
   }
  },
  {
   "cell_type": "markdown",
   "source": [
    "requirements:\n",
    "    torch -> https://pytorch.org/get-started/locally/\n",
    "    transformer -> https://github.com/huggingface/transformers"
   ],
   "metadata": {
    "collapsed": false
   }
  },
  {
   "cell_type": "code",
   "execution_count": 5,
   "outputs": [],
   "source": [
    "# import library\n",
    "\n",
    "import torch\n",
    "from transformers import Wav2Vec2Processor, Wav2Vec2ForCTC\n",
    "import speech_recognition as sr\n",
    "import io\n",
    "from pydub import AudioSegment"
   ],
   "metadata": {
    "collapsed": false,
    "ExecuteTime": {
     "end_time": "2023-05-25T05:58:13.804894071Z",
     "start_time": "2023-05-25T05:58:13.764113403Z"
    }
   }
  },
  {
   "cell_type": "code",
   "execution_count": 2,
   "outputs": [
    {
     "name": "stderr",
     "output_type": "stream",
     "text": [
      "Some weights of Wav2Vec2ForCTC were not initialized from the model checkpoint at facebook/wav2vec2-base-960h and are newly initialized: ['wav2vec2.masked_spec_embed']\n",
      "You should probably TRAIN this model on a down-stream task to be able to use it for predictions and inference.\n"
     ]
    }
   ],
   "source": [
    "# load model and tokenizer\n",
    "tokenizer = Wav2Vec2ForCTC.from_pretrained(\"facebook/wav2vec2-base-960h\")\n",
    "model = Wav2Vec2Processor.from_pretrained(\"facebook/wav2vec2-base-960h\")"
   ],
   "metadata": {
    "collapsed": false,
    "ExecuteTime": {
     "end_time": "2023-05-25T05:50:48.798290722Z",
     "start_time": "2023-05-25T05:50:42.874043784Z"
    }
   }
  },
  {
   "cell_type": "code",
   "execution_count": 9,
   "outputs": [],
   "source": [
    "r = sr.Recognizer()\n",
    "\n",
    "with sr.Microphone(sample_rate=16000) as source:\n",
    "    while True:\n",
    "        audio = r.listen(source) # pyaudio object\n",
    "        data = io.BytesIO(audio.get_wav_data()) # list of bytes\n",
    "        clip = AudioSegment.from_file(data) # numpy array\n",
    "        x = torch.FloatTensor(clip.get_array_of_samples()) # tensor\n",
    "\n",
    "        inputs = tokenizer(x, sampling_rate=16000, return_tensors='pt', padding='longest').input_values\n",
    "        logits = model(inputs).logits\n",
    "        tokens = torch.argmax(logits)\n",
    "        text = tokenizer.batch_decode(tokens)\n",
    "\n",
    "        print(\"You said: \", str(text).lower())"
   ],
   "metadata": {
    "collapsed": false
   }
  },
  {
   "cell_type": "code",
   "execution_count": 7,
   "outputs": [],
   "source": [],
   "metadata": {
    "collapsed": false
   }
  }
 ],
 "metadata": {
  "kernelspec": {
   "display_name": "Python 3",
   "language": "python",
   "name": "python3"
  },
  "language_info": {
   "codemirror_mode": {
    "name": "ipython",
    "version": 2
   },
   "file_extension": ".py",
   "mimetype": "text/x-python",
   "name": "python",
   "nbconvert_exporter": "python",
   "pygments_lexer": "ipython2",
   "version": "2.7.6"
  }
 },
 "nbformat": 4,
 "nbformat_minor": 0
}
